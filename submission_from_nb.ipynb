{
 "cells": [
  {
   "cell_type": "code",
   "execution_count": 2,
   "metadata": {},
   "outputs": [],
   "source": [
    "def get_colab():\n",
    "    try:\n",
    "        from google.colab import _message\n",
    "        return _message.blocking_request('get_ipynb', request='', timeout_sec=5)\n",
    "    except:\n",
    "        raise NotImplementedError(\"You seem to use the colab function eventhough colab is not availabe\")\n"
   ]
  },
  {
   "cell_type": "code",
   "execution_count": 60,
   "metadata": {},
   "outputs": [],
   "source": [
    "def get_saved_nb_content():\n",
    "    try:\n",
    "        from IPython.display import display, Javascript\n",
    "    except ImportError:\n",
    "        print(\"Could not import IPython Display Function\")\n",
    "    # can have comments here :)\n",
    "    js_cmd = 'IPython.notebook.kernel.execute(\\'filepath = \"\\' + IPython.notebook.notebook_name + \\'\"\\')'\n",
    "    display(Javascript(js_cmd))\n",
    "    with open(filepath,\"r\") as file:\n",
    "        return(json.load(file))"
   ]
  },
  {
   "cell_type": "code",
   "execution_count": 73,
   "metadata": {},
   "outputs": [
    {
     "data": {
      "application/javascript": [
       "IPython.notebook.save_checkpoint();"
      ],
      "text/plain": [
       "<IPython.core.display.Javascript object>"
      ]
     },
     "metadata": {},
     "output_type": "display_data"
    },
    {
     "data": {
      "application/javascript": [
       "IPython.notebook.save_notebook();"
      ],
      "text/plain": [
       "<IPython.core.display.Javascript object>"
      ]
     },
     "metadata": {},
     "output_type": "display_data"
    },
    {
     "data": {
      "application/javascript": [
       "IPython.notebook.kernel.execute('filepath = \"' + IPython.notebook.notebook_name + '\"')"
      ],
      "text/plain": [
       "<IPython.core.display.Javascript object>"
      ]
     },
     "metadata": {},
     "output_type": "display_data"
    }
   ],
   "source": [
    "from requests import post\n",
    "mode=\"jupyter\"\n",
    "\n",
    "if mode == \"jupyter\":\n",
    "        display(Javascript('IPython.notebook.save_checkpoint();'))\n",
    "        display(Javascript('IPython.notebook.save_notebook();'))\n",
    "        notebook_json_string=get_saved_nb_content()\n",
    "        \n",
    "elif mode == \"jupyterlab\":\n",
    "    display(Javascript('document.querySelector(\\'[data-command=\"docmanager:save\"]\\').click();')) \n",
    "    notebook_json_string=get_saved_nb_content()\n",
    "elif mode==\"colab\":\n",
    "    notebook_json_string=get_colab()\n",
    "else: \n",
    "    raise NotImplementedError(\"You seem to work in an unkown environment, where we can not programatically submit\")\n",
    "\n",
    "main_url=\"http://localhost:5000/upload/\"\n",
    "assignment=\"Into the wild\" # Or Maybe NB name\n",
    "submissionurl=main_url+assignment\n",
    "if not \"auth_token\" in locals():\n",
    "    auth_token=input(\"Please enter your auth token here:\")\n",
    "x=post(submissionurl, files={\"file\":(\"submission.ipynb\",str(notebook_json_string))}, data={\"auth_token\": auth_token})"
   ]
  },
  {
   "cell_type": "code",
   "execution_count": null,
   "metadata": {},
   "outputs": [],
   "source": []
  }
 ],
 "metadata": {
  "kernelspec": {
   "display_name": "Python 3",
   "language": "python",
   "name": "python3"
  },
  "language_info": {
   "codemirror_mode": {
    "name": "ipython",
    "version": 3
   },
   "file_extension": ".py",
   "mimetype": "text/x-python",
   "name": "python",
   "nbconvert_exporter": "python",
   "pygments_lexer": "ipython3",
   "version": "3.9.4"
  },
  "toc": {
   "base_numbering": 1,
   "nav_menu": {},
   "number_sections": true,
   "sideBar": true,
   "skip_h1_title": false,
   "title_cell": "Table of Contents",
   "title_sidebar": "Contents",
   "toc_cell": false,
   "toc_position": {},
   "toc_section_display": true,
   "toc_window_display": false
  }
 },
 "nbformat": 4,
 "nbformat_minor": 2
}
