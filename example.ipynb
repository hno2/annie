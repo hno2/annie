{
 "metadata": {
  "language_info": {
   "codemirror_mode": {
    "name": "ipython",
    "version": 3
   },
   "file_extension": ".py",
   "mimetype": "text/x-python",
   "name": "python",
   "nbconvert_exporter": "python",
   "pygments_lexer": "ipython3",
   "version": "3.9.4"
  },
  "orig_nbformat": 4,
  "kernelspec": {
   "name": "python3",
   "display_name": "Python 3.9.4 64-bit ('ma': conda)"
  },
  "interpreter": {
   "hash": "164fd47c9b33484e9a60022607095fc0a1e180ea64fb96d1a6617d165a4e516c"
  }
 },
 "nbformat": 4,
 "nbformat_minor": 2,
 "cells": [
  {
   "cell_type": "code",
   "execution_count": null,
   "metadata": {},
   "outputs": [],
   "source": [
    "print(\"Hello World, Colab!\")"
   ]
  },
  {
   "cell_type": "code",
   "execution_count": null,
   "metadata": {},
   "outputs": [],
   "source": [
    "### Run This for automatic submission\n",
    "try:\n",
    "    from google.colab import _message\n",
    "except:\n",
    "    raise NotImplementedError(\"Automatic Submission only works in Google Colab, please upload your code manually\")\n",
    "from requests import post\n",
    "notebook_json_string = _message.blocking_request('get_ipynb', request='', timeout_sec=5)\n",
    "main_url=\"https://www.annie.simonklug.de/upload\"\n",
    "assignment=\"Getting%20Started%20with%20Pandas\" # Or Maybe NB name\n",
    "submissionurl=main_url+assignment\n",
    "auth_token=input(\"Please enter your auth token here:\")\n",
    "x=post(submissionurl, files={\"submission.ipynb\":notebook_json_string, auth_token: auth_token})"
   ]
  }
 ]
}